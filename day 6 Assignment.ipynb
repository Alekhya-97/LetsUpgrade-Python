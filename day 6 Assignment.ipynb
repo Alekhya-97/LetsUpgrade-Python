{
 "cells": [
  {
   "cell_type": "markdown",
   "metadata": {},
   "source": [
    "# Assignment 1"
   ]
  },
  {
   "cell_type": "code",
   "execution_count": 64,
   "metadata": {},
   "outputs": [],
   "source": [
    "class bank():\n",
    "    def __init__(self,ownername,balance):\n",
    "        ownername= input(\"Enter your name - \")\n",
    "        balance=float(input(\"Enter your Balance- \"))\n",
    "        self.owwnername=ownername\n",
    "        self.balance=balance\n",
    "    def deposit(self):\n",
    "        deposit=float(input(\"Enter the amount to be deposited\"))\n",
    "        self.deposit=deposit\n",
    "        self.balance=self.balance+self.deposit\n",
    "    def withdraw(self):\n",
    "        wamount=float(input(\"Enter the amount to withdraw\"))\n",
    "        self.wamount=wamount\n",
    "        self.balance=self.balance-self.wamount\n",
    "        if self.wamount<=self.balance:\n",
    "            print(\" you have withdrawn- \",self.wamount)\n",
    "            print(\"balance is: \", self.balance)\n",
    "        else:\n",
    "            print(\" insufficent\")\n",
    "            \n",
    "        "
   ]
  },
  {
   "cell_type": "code",
   "execution_count": 65,
   "metadata": {},
   "outputs": [
    {
     "name": "stdout",
     "output_type": "stream",
     "text": [
      "Enter your name - Alekhya\n",
      "Enter your Balance- 100000\n"
     ]
    }
   ],
   "source": [
    "s= bank(\"Alekhya\",100000)"
   ]
  },
  {
   "cell_type": "code",
   "execution_count": 66,
   "metadata": {},
   "outputs": [
    {
     "name": "stdout",
     "output_type": "stream",
     "text": [
      "Enter the amount to be deposited1000\n"
     ]
    }
   ],
   "source": [
    "s.deposit()"
   ]
  },
  {
   "cell_type": "code",
   "execution_count": 67,
   "metadata": {},
   "outputs": [
    {
     "name": "stdout",
     "output_type": "stream",
     "text": [
      "Enter the amount to withdraw10000\n",
      " you have withdrawn-  10000.0\n",
      "balance is:  91000.0\n"
     ]
    }
   ],
   "source": [
    "s.withdraw()"
   ]
  },
  {
   "cell_type": "code",
   "execution_count": 68,
   "metadata": {},
   "outputs": [
    {
     "name": "stdout",
     "output_type": "stream",
     "text": [
      "Enter the amount to withdraw200\n",
      " you have withdrawn-  200.0\n",
      "balance is:  90800.0\n"
     ]
    }
   ],
   "source": [
    "s.withdraw()"
   ]
  },
  {
   "cell_type": "code",
   "execution_count": 69,
   "metadata": {},
   "outputs": [
    {
     "name": "stdout",
     "output_type": "stream",
     "text": [
      "Enter the amount to withdraw10000\n",
      " you have withdrawn-  10000.0\n",
      "balance is:  80800.0\n"
     ]
    }
   ],
   "source": [
    "s.withdraw()"
   ]
  },
  {
   "cell_type": "code",
   "execution_count": null,
   "metadata": {},
   "outputs": [],
   "source": []
  },
  {
   "cell_type": "code",
   "execution_count": null,
   "metadata": {},
   "outputs": [],
   "source": []
  },
  {
   "cell_type": "code",
   "execution_count": null,
   "metadata": {},
   "outputs": [],
   "source": []
  },
  {
   "cell_type": "markdown",
   "metadata": {},
   "source": [
    "# Assignment 2"
   ]
  },
  {
   "cell_type": "code",
   "execution_count": 76,
   "metadata": {},
   "outputs": [],
   "source": [
    "import math\n",
    "\n",
    "class cone():\n",
    "    def __init__(self,radius,height):\n",
    "        radius=float(input(\"Enter the radius- \"))\n",
    "        height=float(input(\"Enter the height- \"))\n",
    "        self.radius=radius\n",
    "        self.height=height\n",
    "    def vol(self):\n",
    "        self.vol=(1.0/3) * math.pi * self.radius * self.radius * self.height\n",
    "        print(\" volume of cone- \",self.vol)\n",
    "    def sa(self):\n",
    "        self.base=math.pi * self.radius * self.radius\n",
    "        self.side=math.pi * self.radius * math.sqrt((self.radius *self.radius)+( self.height* self.height))\n",
    "        print(\" base surface area -  \",self.base)\n",
    "        print(\" side surface area - \",self.side)\n",
    "        "
   ]
  },
  {
   "cell_type": "code",
   "execution_count": 77,
   "metadata": {},
   "outputs": [
    {
     "name": "stdout",
     "output_type": "stream",
     "text": [
      "Enter the radius- 3\n",
      "Enter the height- 5\n"
     ]
    }
   ],
   "source": [
    "l= cone(3,5)"
   ]
  },
  {
   "cell_type": "code",
   "execution_count": 78,
   "metadata": {},
   "outputs": [
    {
     "name": "stdout",
     "output_type": "stream",
     "text": [
      " volume of cone-  47.12388980384689\n"
     ]
    }
   ],
   "source": [
    "l.vol()"
   ]
  },
  {
   "cell_type": "code",
   "execution_count": 79,
   "metadata": {},
   "outputs": [
    {
     "name": "stdout",
     "output_type": "stream",
     "text": [
      " base surface area -   28.274333882308138\n",
      " side surface area -  54.955426908844444\n"
     ]
    }
   ],
   "source": [
    "l.sa()"
   ]
  },
  {
   "cell_type": "code",
   "execution_count": null,
   "metadata": {},
   "outputs": [],
   "source": []
  }
 ],
 "metadata": {
  "kernelspec": {
   "display_name": "Python 3",
   "language": "python",
   "name": "python3"
  },
  "language_info": {
   "codemirror_mode": {
    "name": "ipython",
    "version": 3
   },
   "file_extension": ".py",
   "mimetype": "text/x-python",
   "name": "python",
   "nbconvert_exporter": "python",
   "pygments_lexer": "ipython3",
   "version": "3.8.3"
  }
 },
 "nbformat": 4,
 "nbformat_minor": 4
}
