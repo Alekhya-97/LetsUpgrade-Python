{
 "cells": [
  {
   "cell_type": "markdown",
   "metadata": {},
   "source": [
    "# Assignment 1\n",
    "\n",
    "#mathematical decorator"
   ]
  },
  {
   "cell_type": "code",
   "execution_count": 3,
   "metadata": {},
   "outputs": [],
   "source": [
    "def mathprobs(som_func):\n",
    "    def wrap_prog():\n",
    "        print(\" you are supposed to enter 2 numbers which decides the range\")\n",
    "        a=int(input(\" Enter the first number\"))\n",
    "        b=int(input(\"Enter the second number\"))\n",
    "        som_func(a,b)\n",
    "        \n",
    "    return wrap_prog"
   ]
  },
  {
   "cell_type": "code",
   "execution_count": 5,
   "metadata": {},
   "outputs": [],
   "source": [
    "@mathprobs\n",
    "\n",
    "def prime(num1,num2):\n",
    "    for i in range(num1,num2+1):\n",
    "        for j in range(2,i):\n",
    "            if i%j==0:\n",
    "                break\n",
    "        else:\n",
    "            print(i)\n",
    "                \n",
    "    "
   ]
  },
  {
   "cell_type": "code",
   "execution_count": 7,
   "metadata": {},
   "outputs": [
    {
     "name": "stdout",
     "output_type": "stream",
     "text": [
      " you are supposed to enter 2 numbers which decides the range\n",
      " Enter the first number1\n",
      "Enter the second number9\n",
      "1\n",
      "2\n",
      "3\n",
      "5\n",
      "7\n"
     ]
    }
   ],
   "source": [
    "prime()"
   ]
  },
  {
   "cell_type": "code",
   "execution_count": 8,
   "metadata": {},
   "outputs": [],
   "source": [
    "@mathprobs\n",
    "\n",
    "def oddnum(num1,num2):\n",
    "    for i in range(num1,num2+1):\n",
    "        if i%2!=0:\n",
    "            print(i)\n",
    "        else:continue"
   ]
  },
  {
   "cell_type": "code",
   "execution_count": 9,
   "metadata": {},
   "outputs": [
    {
     "name": "stdout",
     "output_type": "stream",
     "text": [
      " you are supposed to enter 2 numbers which decides the range\n",
      " Enter the first number11\n",
      "Enter the second number22\n",
      "11\n",
      "13\n",
      "15\n",
      "17\n",
      "19\n",
      "21\n"
     ]
    }
   ],
   "source": [
    "oddnum()"
   ]
  },
  {
   "cell_type": "markdown",
   "metadata": {},
   "source": [
    "# Assignmnet 2\n",
    "\n",
    "#error handling"
   ]
  },
  {
   "cell_type": "code",
   "execution_count": 19,
   "metadata": {},
   "outputs": [
    {
     "name": "stdout",
     "output_type": "stream",
     "text": [
      "error: u have not opened in write mode\n"
     ]
    }
   ],
   "source": [
    "try:\n",
    "    file=open(\"sample.txt\",\"r\")\n",
    "    file.write(\"hi include this sentence\")\n",
    "    file.close()\n",
    "except Exception as e:\n",
    "    print(\"error: u have not opened in write mode\")"
   ]
  },
  {
   "cell_type": "code",
   "execution_count": null,
   "metadata": {},
   "outputs": [],
   "source": []
  }
 ],
 "metadata": {
  "kernelspec": {
   "display_name": "Python 3",
   "language": "python",
   "name": "python3"
  },
  "language_info": {
   "codemirror_mode": {
    "name": "ipython",
    "version": 3
   },
   "file_extension": ".py",
   "mimetype": "text/x-python",
   "name": "python",
   "nbconvert_exporter": "python",
   "pygments_lexer": "ipython3",
   "version": "3.8.3"
  }
 },
 "nbformat": 4,
 "nbformat_minor": 4
}
